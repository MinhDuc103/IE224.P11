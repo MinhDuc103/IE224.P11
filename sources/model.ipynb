{
 "cells": [
  {
   "cell_type": "code",
   "execution_count": 152,
   "id": "1561191c-6b04-4811-a3b7-e73d157b529c",
   "metadata": {},
   "outputs": [],
   "source": [
    "# Import các thư viện cần dùng\n",
    "# Để tính toán hiệu quả cho xử lý dữ liệu số\n",
    "import numpy as np\n",
    "# Để quản lý dữ liệu trong dataframe\n",
    "import pandas as pd\n",
    "# Để vẽ các loại biểu đồ\n",
    "import matplotlib.pyplot as plt\n",
    "\n",
    "# Import các mô hình hồi quy từ thư viện scikit-learn và các thư viện bổ sung\n",
    "from sklearn.ensemble import RandomForestClassifier #Random Forest Classifier\n",
    "from sklearn.ensemble import GradientBoostingClassifier #Gradient Boosting Classifier\n",
    "from sklearn.ensemble import HistGradientBoostingClassifier # Histogram Gradient Boosting Classifier\n",
    "from xgboost import XGBClassifier  # XGBoost Classifier\n",
    "from sklearn.linear_model import LogisticRegression #Logistic Regression\n",
    "from sklearn.tree import DecisionTreeClassifier #Decision Tree Classifier\n",
    "from sklearn.svm import SVC #Support Vector Classification\n",
    "from sklearn.neighbors import KNeighborsClassifier #K-Nearest Neighbors Classifier\n",
    "\n",
    "# Import các hàm và lớp cần thiết cho việc chia dữ liệu và tìm siêu tham số\n",
    "from sklearn.model_selection import train_test_split, RandomizedSearchCV, KFold\n",
    "\n",
    "# Import các độ đo đánh giá mô hình hồi quy\n",
    "from sklearn.metrics import accuracy_score, precision_score, recall_score, f1_score\n",
    "\n",
    "# Để tối ưu hoá và tìm kiếm siêu tham số\n",
    "from scipy.stats import randint, uniform"
   ]
  },
  {
   "cell_type": "markdown",
   "id": "211158bf-cb53-48a9-b71f-c8e9a2e5c6c7",
   "metadata": {},
   "source": [
    "## 1. Đọc dữ liệu"
   ]
  },
  {
   "cell_type": "code",
   "execution_count": 153,
   "id": "bda01ef1-0481-4b29-8bbf-47e294bdddfc",
   "metadata": {},
   "outputs": [],
   "source": [
    "# Đọc tệp CSV vào DataFrame\n",
    "df = pd.read_csv('Credit_risk_Processed.xls')"
   ]
  },
  {
   "cell_type": "code",
   "execution_count": 154,
   "id": "2dc3585f-0cfc-4e6b-bdd1-99650107ce73",
   "metadata": {},
   "outputs": [
    {
     "data": {
      "text/html": [
       "<div>\n",
       "<style scoped>\n",
       "    .dataframe tbody tr th:only-of-type {\n",
       "        vertical-align: middle;\n",
       "    }\n",
       "\n",
       "    .dataframe tbody tr th {\n",
       "        vertical-align: top;\n",
       "    }\n",
       "\n",
       "    .dataframe thead th {\n",
       "        text-align: right;\n",
       "    }\n",
       "</style>\n",
       "<table border=\"1\" class=\"dataframe\">\n",
       "  <thead>\n",
       "    <tr style=\"text-align: right;\">\n",
       "      <th></th>\n",
       "      <th>person_age</th>\n",
       "      <th>person_income</th>\n",
       "      <th>person_emp_length</th>\n",
       "      <th>loan_amnt</th>\n",
       "      <th>loan_int_rate</th>\n",
       "      <th>loan_percent_income</th>\n",
       "      <th>cb_person_cred_hist_length</th>\n",
       "      <th>loan_status</th>\n",
       "      <th>person_home_ownership_MORTGAGE</th>\n",
       "      <th>person_home_ownership_OTHER</th>\n",
       "      <th>...</th>\n",
       "      <th>loan_intent_VENTURE</th>\n",
       "      <th>loan_grade_A</th>\n",
       "      <th>loan_grade_B</th>\n",
       "      <th>loan_grade_C</th>\n",
       "      <th>loan_grade_D</th>\n",
       "      <th>loan_grade_E</th>\n",
       "      <th>loan_grade_F</th>\n",
       "      <th>loan_grade_G</th>\n",
       "      <th>cb_person_default_on_file_N</th>\n",
       "      <th>cb_person_default_on_file_Y</th>\n",
       "    </tr>\n",
       "  </thead>\n",
       "  <tbody>\n",
       "    <tr>\n",
       "      <th>0</th>\n",
       "      <td>0.013514</td>\n",
       "      <td>0.002751</td>\n",
       "      <td>0.121951</td>\n",
       "      <td>0.014493</td>\n",
       "      <td>0.321348</td>\n",
       "      <td>0.120482</td>\n",
       "      <td>0.000000</td>\n",
       "      <td>0</td>\n",
       "      <td>0</td>\n",
       "      <td>0</td>\n",
       "      <td>...</td>\n",
       "      <td>0</td>\n",
       "      <td>0</td>\n",
       "      <td>1</td>\n",
       "      <td>0</td>\n",
       "      <td>0</td>\n",
       "      <td>0</td>\n",
       "      <td>0</td>\n",
       "      <td>0</td>\n",
       "      <td>1</td>\n",
       "      <td>0</td>\n",
       "    </tr>\n",
       "    <tr>\n",
       "      <th>1</th>\n",
       "      <td>0.067568</td>\n",
       "      <td>0.002751</td>\n",
       "      <td>0.024390</td>\n",
       "      <td>0.144928</td>\n",
       "      <td>0.418539</td>\n",
       "      <td>0.686747</td>\n",
       "      <td>0.035714</td>\n",
       "      <td>1</td>\n",
       "      <td>1</td>\n",
       "      <td>0</td>\n",
       "      <td>...</td>\n",
       "      <td>0</td>\n",
       "      <td>0</td>\n",
       "      <td>0</td>\n",
       "      <td>1</td>\n",
       "      <td>0</td>\n",
       "      <td>0</td>\n",
       "      <td>0</td>\n",
       "      <td>0</td>\n",
       "      <td>1</td>\n",
       "      <td>0</td>\n",
       "    </tr>\n",
       "    <tr>\n",
       "      <th>2</th>\n",
       "      <td>0.040541</td>\n",
       "      <td>0.030209</td>\n",
       "      <td>0.097561</td>\n",
       "      <td>1.000000</td>\n",
       "      <td>0.551124</td>\n",
       "      <td>0.638554</td>\n",
       "      <td>0.000000</td>\n",
       "      <td>1</td>\n",
       "      <td>0</td>\n",
       "      <td>0</td>\n",
       "      <td>...</td>\n",
       "      <td>0</td>\n",
       "      <td>0</td>\n",
       "      <td>0</td>\n",
       "      <td>1</td>\n",
       "      <td>0</td>\n",
       "      <td>0</td>\n",
       "      <td>0</td>\n",
       "      <td>0</td>\n",
       "      <td>1</td>\n",
       "      <td>0</td>\n",
       "    </tr>\n",
       "    <tr>\n",
       "      <th>3</th>\n",
       "      <td>0.054054</td>\n",
       "      <td>0.024757</td>\n",
       "      <td>0.195122</td>\n",
       "      <td>1.000000</td>\n",
       "      <td>0.497191</td>\n",
       "      <td>0.662651</td>\n",
       "      <td>0.071429</td>\n",
       "      <td>1</td>\n",
       "      <td>0</td>\n",
       "      <td>0</td>\n",
       "      <td>...</td>\n",
       "      <td>0</td>\n",
       "      <td>0</td>\n",
       "      <td>0</td>\n",
       "      <td>1</td>\n",
       "      <td>0</td>\n",
       "      <td>0</td>\n",
       "      <td>0</td>\n",
       "      <td>0</td>\n",
       "      <td>0</td>\n",
       "      <td>1</td>\n",
       "    </tr>\n",
       "    <tr>\n",
       "      <th>4</th>\n",
       "      <td>0.013514</td>\n",
       "      <td>0.002898</td>\n",
       "      <td>0.048780</td>\n",
       "      <td>0.057971</td>\n",
       "      <td>0.096629</td>\n",
       "      <td>0.301205</td>\n",
       "      <td>0.000000</td>\n",
       "      <td>1</td>\n",
       "      <td>0</td>\n",
       "      <td>0</td>\n",
       "      <td>...</td>\n",
       "      <td>1</td>\n",
       "      <td>1</td>\n",
       "      <td>0</td>\n",
       "      <td>0</td>\n",
       "      <td>0</td>\n",
       "      <td>0</td>\n",
       "      <td>0</td>\n",
       "      <td>0</td>\n",
       "      <td>1</td>\n",
       "      <td>0</td>\n",
       "    </tr>\n",
       "  </tbody>\n",
       "</table>\n",
       "<p>5 rows × 27 columns</p>\n",
       "</div>"
      ],
      "text/plain": [
       "   person_age  person_income  person_emp_length  loan_amnt  loan_int_rate  \\\n",
       "0    0.013514       0.002751           0.121951   0.014493       0.321348   \n",
       "1    0.067568       0.002751           0.024390   0.144928       0.418539   \n",
       "2    0.040541       0.030209           0.097561   1.000000       0.551124   \n",
       "3    0.054054       0.024757           0.195122   1.000000       0.497191   \n",
       "4    0.013514       0.002898           0.048780   0.057971       0.096629   \n",
       "\n",
       "   loan_percent_income  cb_person_cred_hist_length  loan_status  \\\n",
       "0             0.120482                    0.000000            0   \n",
       "1             0.686747                    0.035714            1   \n",
       "2             0.638554                    0.000000            1   \n",
       "3             0.662651                    0.071429            1   \n",
       "4             0.301205                    0.000000            1   \n",
       "\n",
       "   person_home_ownership_MORTGAGE  person_home_ownership_OTHER  ...  \\\n",
       "0                               0                            0  ...   \n",
       "1                               1                            0  ...   \n",
       "2                               0                            0  ...   \n",
       "3                               0                            0  ...   \n",
       "4                               0                            0  ...   \n",
       "\n",
       "   loan_intent_VENTURE  loan_grade_A  loan_grade_B  loan_grade_C  \\\n",
       "0                    0             0             1             0   \n",
       "1                    0             0             0             1   \n",
       "2                    0             0             0             1   \n",
       "3                    0             0             0             1   \n",
       "4                    1             1             0             0   \n",
       "\n",
       "   loan_grade_D  loan_grade_E  loan_grade_F  loan_grade_G  \\\n",
       "0             0             0             0             0   \n",
       "1             0             0             0             0   \n",
       "2             0             0             0             0   \n",
       "3             0             0             0             0   \n",
       "4             0             0             0             0   \n",
       "\n",
       "   cb_person_default_on_file_N  cb_person_default_on_file_Y  \n",
       "0                            1                            0  \n",
       "1                            1                            0  \n",
       "2                            1                            0  \n",
       "3                            0                            1  \n",
       "4                            1                            0  \n",
       "\n",
       "[5 rows x 27 columns]"
      ]
     },
     "execution_count": 154,
     "metadata": {},
     "output_type": "execute_result"
    }
   ],
   "source": [
    "# Hiển thị vài dòng đầu tiên của DataFrame để xem nhanh về dữ liệu\n",
    "df.head()"
   ]
  },
  {
   "cell_type": "markdown",
   "id": "72a63e09-5386-407d-9716-0dcf132198c7",
   "metadata": {},
   "source": [
    "### 2. Train - Test Split"
   ]
  },
  {
   "cell_type": "code",
   "execution_count": 155,
   "id": "98a9c5cc-758b-40aa-a49e-619cc0745df1",
   "metadata": {},
   "outputs": [],
   "source": [
    "# Chia tập dữ liệu thành đặc trưng đầu vào và đầu ra\n",
    "X = df.drop(columns='loan_status').values\n",
    "y = df['loan_status'].values"
   ]
  },
  {
   "cell_type": "code",
   "execution_count": 156,
   "id": "3e4e728f-8ac5-44e2-a45f-d2c5fbc690bf",
   "metadata": {},
   "outputs": [
    {
     "name": "stdout",
     "output_type": "stream",
     "text": [
      "Kích thước X: (32574, 26)\n",
      "Kích thước y: (32574,)\n"
     ]
    }
   ],
   "source": [
    "# In ra kích thước \n",
    "print(f'Kích thước X: {X.shape}')\n",
    "print(f'Kích thước y: {y.shape}')"
   ]
  },
  {
   "cell_type": "code",
   "execution_count": 157,
   "id": "1c474519-bef4-4a9e-89b0-48e578bf95ad",
   "metadata": {},
   "outputs": [],
   "source": [
    "# Chia dữ liệu thành tập train và test với tỷ lệ tập kiểm thử là 0.2\n",
    "X_train, X_test, y_train, y_test = train_test_split(X, y, test_size=0.2, random_state=42)"
   ]
  },
  {
   "cell_type": "markdown",
   "id": "2b3d6a16-fba6-4856-8a22-2aa3b18a3750",
   "metadata": {},
   "source": [
    "## 3. Lựa chọn mô hình"
   ]
  },
  {
   "cell_type": "code",
   "execution_count": 158,
   "id": "043c4547-4165-443e-9424-0d86df8844da",
   "metadata": {},
   "outputs": [],
   "source": [
    "\n",
    "def initialize_regression_models():\n",
    "    \"\"\"\n",
    "    Khởi tạo các mô hình hồi quy.\n",
    "\n",
    "    Returns:\n",
    "    - dict, Dictionary chứa các mô hình hồi quy.\n",
    "    \"\"\"\n",
    "    return {\n",
    "        'Logistic Regression': LogisticRegression(max_iter=200),\n",
    "        'XGBoost': XGBClassifier(use_label_encoder=False, eval_metric='logloss'),\n",
    "        'KNeighbors': KNeighborsClassifier(),\n",
    "        'DecisionTree': DecisionTreeClassifier(random_state=42),\n",
    "        'Random Forest': RandomForestClassifier(random_state=42),\n",
    "        'Gradient Boosting': GradientBoostingClassifier(),\n",
    "        'Support Vector Machine': SVC(probability=True),\n",
    "        'HistogramGradientBoosting': HistGradientBoostingClassifier(random_state=42),\n",
    "    }\n",
    "\n",
    "def evaluate_model(model_name, model, X_train, y_train, X_test, y_test):\n",
    "    \"\"\"\n",
    "    Huấn luyện mô hình và đánh giá hiệu suất.\n",
    "\n",
    "    Parameters:\n",
    "    - model_name: str, Tên mô hình.\n",
    "    - model: object, Mô hình hồi quy.\n",
    "    - X_train: DataFrame, Dữ liệu huấn luyện.\n",
    "    - y_train: Series, Nhãn huấn luyện.\n",
    "    - X_test: DataFrame, Dữ liệu kiểm thử.\n",
    "    - y_test: Series, Nhãn kiểm thử.\n",
    "\n",
    "    Returns:\n",
    "    - dict, Dictionary chứa kết quả hiệu suất của mô hình.\n",
    "    \"\"\"\n",
    "    # Huấn luyện mô hình với dữ liệu huấn luyện\n",
    "    model.fit(X_train, y_train)\n",
    "    # Dự đoán nhãn cho dữ liệu kiểm thử\n",
    "    y_pred = model.predict(X_test)\n",
    "\n",
    "    return {\n",
    "        'Mô hình': model_name, # Tên mô hình\n",
    "        'Accuracy': accuracy_score(y_test, y_pred), # Tính độ chính xác\n",
    "        'Precision': precision_score(y_test, y_pred), # Tính độ chính xác của nhãn dương\n",
    "        'Recall': recall_score(y_test, y_pred), # Tính độ nhạy\n",
    "        'F1': f1_score(y_test, y_pred) # Tính điểm F1\n",
    "    }\n",
    "\n",
    "def run_all_models(X_train, y_train, X_test, y_test):\n",
    "    \"\"\"\n",
    "    Huấn luyện và đánh giá tất cả các mô hình hồi quy.\n",
    "\n",
    "    Parameters:\n",
    "    - X_train: DataFrame, Dữ liệu huấn luyện.\n",
    "    - y_train: Series, Nhãn huấn luyện.\n",
    "    - X_test: DataFrame, Dữ liệu kiểm thử.\n",
    "    - y_test: Series, Nhãn kiểm thử.\n",
    "\n",
    "    Returns:\n",
    "    - DataFrame, DataFrame chứa kết quả hiệu suất của tất cả các mô hình.\n",
    "    \"\"\"\n",
    "    # Khởi tạo các mô hình hồi quy\n",
    "    models = initialize_regression_models()\n",
    "    # Danh sách để lưu trữ kết quả\n",
    "    results = []\n",
    "\n",
    "    for model_name, model in models.items():\n",
    "        # Đánh giá từng mô hình\n",
    "        result = evaluate_model(model_name, model, X_train, y_train, X_test, y_test)\n",
    "        # Thêm kết quả vào danh sách\n",
    "        results.append(result)\n",
    "\n",
    "    # Chuyển đổi danh sách kết quả thành DataFrame\n",
    "    results_df = pd.DataFrame(results)\n",
    "    return results_df.sort_values(by='Accuracy', ascending=False).reset_index(drop=True)"
   ]
  },
  {
   "cell_type": "code",
   "execution_count": 159,
   "id": "afa66af7-d53c-43fe-9e34-81d3f32c6602",
   "metadata": {},
   "outputs": [
    {
     "data": {
      "text/html": [
       "<div>\n",
       "<style scoped>\n",
       "    .dataframe tbody tr th:only-of-type {\n",
       "        vertical-align: middle;\n",
       "    }\n",
       "\n",
       "    .dataframe tbody tr th {\n",
       "        vertical-align: top;\n",
       "    }\n",
       "\n",
       "    .dataframe thead th {\n",
       "        text-align: right;\n",
       "    }\n",
       "</style>\n",
       "<table border=\"1\" class=\"dataframe\">\n",
       "  <thead>\n",
       "    <tr style=\"text-align: right;\">\n",
       "      <th></th>\n",
       "      <th>Mô hình</th>\n",
       "      <th>Accuracy</th>\n",
       "      <th>Precision</th>\n",
       "      <th>Recall</th>\n",
       "      <th>F1</th>\n",
       "    </tr>\n",
       "  </thead>\n",
       "  <tbody>\n",
       "    <tr>\n",
       "      <th>0</th>\n",
       "      <td>HistogramGradientBoosting</td>\n",
       "      <td>0.937836</td>\n",
       "      <td>0.975541</td>\n",
       "      <td>0.732345</td>\n",
       "      <td>0.836628</td>\n",
       "    </tr>\n",
       "    <tr>\n",
       "      <th>1</th>\n",
       "      <td>XGBoost</td>\n",
       "      <td>0.936915</td>\n",
       "      <td>0.947462</td>\n",
       "      <td>0.751412</td>\n",
       "      <td>0.838125</td>\n",
       "    </tr>\n",
       "    <tr>\n",
       "      <th>2</th>\n",
       "      <td>Random Forest</td>\n",
       "      <td>0.934612</td>\n",
       "      <td>0.960037</td>\n",
       "      <td>0.729520</td>\n",
       "      <td>0.829053</td>\n",
       "    </tr>\n",
       "    <tr>\n",
       "      <th>3</th>\n",
       "      <td>Gradient Boosting</td>\n",
       "      <td>0.930775</td>\n",
       "      <td>0.953904</td>\n",
       "      <td>0.716102</td>\n",
       "      <td>0.818072</td>\n",
       "    </tr>\n",
       "    <tr>\n",
       "      <th>4</th>\n",
       "      <td>Support Vector Machine</td>\n",
       "      <td>0.899156</td>\n",
       "      <td>0.884498</td>\n",
       "      <td>0.616525</td>\n",
       "      <td>0.726592</td>\n",
       "    </tr>\n",
       "    <tr>\n",
       "      <th>5</th>\n",
       "      <td>DecisionTree</td>\n",
       "      <td>0.892249</td>\n",
       "      <td>0.741870</td>\n",
       "      <td>0.773305</td>\n",
       "      <td>0.757261</td>\n",
       "    </tr>\n",
       "    <tr>\n",
       "      <th>6</th>\n",
       "      <td>KNeighbors</td>\n",
       "      <td>0.889025</td>\n",
       "      <td>0.838710</td>\n",
       "      <td>0.605932</td>\n",
       "      <td>0.703567</td>\n",
       "    </tr>\n",
       "    <tr>\n",
       "      <th>7</th>\n",
       "      <td>Logistic Regression</td>\n",
       "      <td>0.864927</td>\n",
       "      <td>0.762231</td>\n",
       "      <td>0.550141</td>\n",
       "      <td>0.639048</td>\n",
       "    </tr>\n",
       "  </tbody>\n",
       "</table>\n",
       "</div>"
      ],
      "text/plain": [
       "                     Mô hình  Accuracy  Precision    Recall        F1\n",
       "0  HistogramGradientBoosting  0.937836   0.975541  0.732345  0.836628\n",
       "1                    XGBoost  0.936915   0.947462  0.751412  0.838125\n",
       "2              Random Forest  0.934612   0.960037  0.729520  0.829053\n",
       "3          Gradient Boosting  0.930775   0.953904  0.716102  0.818072\n",
       "4     Support Vector Machine  0.899156   0.884498  0.616525  0.726592\n",
       "5               DecisionTree  0.892249   0.741870  0.773305  0.757261\n",
       "6                 KNeighbors  0.889025   0.838710  0.605932  0.703567\n",
       "7        Logistic Regression  0.864927   0.762231  0.550141  0.639048"
      ]
     },
     "execution_count": 159,
     "metadata": {},
     "output_type": "execute_result"
    }
   ],
   "source": [
    "# Chạy hàm run_all_models và lưu kết quả vào DataFrame.\n",
    "results_df = run_all_models(X_train, y_train, X_test, y_test)\n",
    "# Xem kết quả đánh giá\n",
    "results_df"
   ]
  },
  {
   "cell_type": "markdown",
   "id": "3ea4ceed-e148-4f43-be76-4981aa020548",
   "metadata": {},
   "source": [
    "Dựa trên kết quả tìm được, ta có thể thấy rằng mô hình `HistogramGradientBoosting` cho ra giá trị của các độ đo Accuracy, Precision, Recall, F1 là cao nhất. Do đó, đây là mô hình tối ưu nhất cho bộ dữ liệu tìm được."
   ]
  },
  {
   "cell_type": "markdown",
   "id": "3e5d766f-3140-4b9c-aedd-1d8b4a867ad8",
   "metadata": {},
   "source": [
    "## 4. Chạy mô hình HistogramGradientBoosting với tham số mặc định"
   ]
  },
  {
   "cell_type": "code",
   "execution_count": 160,
   "id": "15070cc5-91c6-4341-bbc1-d617c8d6c749",
   "metadata": {},
   "outputs": [
    {
     "name": "stdout",
     "output_type": "stream",
     "text": [
      "Các tham số mặc định của HistGradientBoostingClassifier:\n"
     ]
    },
    {
     "data": {
      "text/html": [
       "<div>\n",
       "<style scoped>\n",
       "    .dataframe tbody tr th:only-of-type {\n",
       "        vertical-align: middle;\n",
       "    }\n",
       "\n",
       "    .dataframe tbody tr th {\n",
       "        vertical-align: top;\n",
       "    }\n",
       "\n",
       "    .dataframe thead th {\n",
       "        text-align: right;\n",
       "    }\n",
       "</style>\n",
       "<table border=\"1\" class=\"dataframe\">\n",
       "  <thead>\n",
       "    <tr style=\"text-align: right;\">\n",
       "      <th></th>\n",
       "      <th>Value</th>\n",
       "    </tr>\n",
       "  </thead>\n",
       "  <tbody>\n",
       "    <tr>\n",
       "      <th>max_iter</th>\n",
       "      <td>100</td>\n",
       "    </tr>\n",
       "    <tr>\n",
       "      <th>max_leaf_nodes</th>\n",
       "      <td>31</td>\n",
       "    </tr>\n",
       "    <tr>\n",
       "      <th>min_samples_leaf</th>\n",
       "      <td>20</td>\n",
       "    </tr>\n",
       "    <tr>\n",
       "      <th>max_depth</th>\n",
       "      <td>None</td>\n",
       "    </tr>\n",
       "    <tr>\n",
       "      <th>learning_rate</th>\n",
       "      <td>0.1</td>\n",
       "    </tr>\n",
       "    <tr>\n",
       "      <th>l2_regularization</th>\n",
       "      <td>0.0</td>\n",
       "    </tr>\n",
       "  </tbody>\n",
       "</table>\n",
       "</div>"
      ],
      "text/plain": [
       "                  Value\n",
       "max_iter            100\n",
       "max_leaf_nodes       31\n",
       "min_samples_leaf     20\n",
       "max_depth          None\n",
       "learning_rate       0.1\n",
       "l2_regularization   0.0"
      ]
     },
     "execution_count": 160,
     "metadata": {},
     "output_type": "execute_result"
    }
   ],
   "source": [
    "# Tạo một HistGradientBoostingClassifier với các tham số mặc định\n",
    "hgb_classifier = HistGradientBoostingClassifier()\n",
    "\n",
    "# Xem các tham số mặc định\n",
    "default_params = hgb_classifier.get_params()\n",
    "\n",
    "# Chọn ra các tham số quan trọng\n",
    "desired_params = ['max_iter', 'max_leaf_nodes', 'min_samples_leaf', 'max_depth', 'learning_rate', 'l2_regularization']\n",
    "\n",
    "# Lọc các tham số quan trọng từ tham số mặc định\n",
    "selected_default_params = {param: default_params[param] for param in desired_params}\n",
    "\n",
    "# Tạo DataFrame từ các tham số quan trọng\n",
    "default_params_df = pd.DataFrame([selected_default_params])\n",
    "\n",
    "# Đảo ngược vị trí giữa tên tham số và giá trị\n",
    "default_params_df = default_params_df.transpose()\n",
    "\n",
    "# Đặt tên cột cho DataFrame\n",
    "default_params_df.columns = ['Value']\n",
    "\n",
    "# In ra DataFrame với tên tham số ở các dòng\n",
    "print(\"Các tham số mặc định của HistGradientBoostingClassifier:\")\n",
    "default_params_df"
   ]
  },
  {
   "cell_type": "code",
   "execution_count": 161,
   "id": "4633c111-fce9-4f22-8e9a-18fc59cd929e",
   "metadata": {},
   "outputs": [
    {
     "name": "stdout",
     "output_type": "stream",
     "text": [
      "Accuracy: (0.9372217958557175,)\n",
      "Precision: (0.9754485363550519,)\n",
      "Recall: (0.7295197740112994,)\n",
      "F1: 0.8347474747474747\n"
     ]
    }
   ],
   "source": [
    "# Tạo một HistGradientBoostingClassifier với các tham số mặc định\n",
    "hgb_classifier = HistGradientBoostingClassifier()\n",
    "\n",
    "# Huấn luyện HistGradientBoostingClassifier trên dữ liệu huấn luyện\n",
    "# và đưa ra dự đoán trên dữ liệu kiểm thử\n",
    "hgb_classifier.fit(X_train, y_train)\n",
    "y_pred = hgb_classifier.predict(X_test)\n",
    "\n",
    "# In các độ đo đánh giá mô hình\n",
    "accuracy = accuracy_score(y_test, y_pred),\n",
    "precision = precision_score(y_test, y_pred),\n",
    "recall = recall_score(y_test, y_pred),\n",
    "f1 = f1_score(y_test, y_pred)\n",
    "print(f\"Accuracy: {accuracy}\")\n",
    "print(f\"Precision: {precision}\")\n",
    "print(f\"Recall: {recall}\")\n",
    "print(f\"F1: {f1}\")"
   ]
  },
  {
   "cell_type": "markdown",
   "id": "90e32f16-00e3-4c34-9017-79f6431e514d",
   "metadata": {},
   "source": [
    "## 5. Tuning cho HistGradientBoostingClassifier"
   ]
  },
  {
   "cell_type": "code",
   "execution_count": 162,
   "id": "f060a1db-390b-4124-ba04-0ceedd26818d",
   "metadata": {},
   "outputs": [
    {
     "data": {
      "text/html": [
       "<style>#sk-container-id-7 {color: black;background-color: white;}#sk-container-id-7 pre{padding: 0;}#sk-container-id-7 div.sk-toggleable {background-color: white;}#sk-container-id-7 label.sk-toggleable__label {cursor: pointer;display: block;width: 100%;margin-bottom: 0;padding: 0.3em;box-sizing: border-box;text-align: center;}#sk-container-id-7 label.sk-toggleable__label-arrow:before {content: \"▸\";float: left;margin-right: 0.25em;color: #696969;}#sk-container-id-7 label.sk-toggleable__label-arrow:hover:before {color: black;}#sk-container-id-7 div.sk-estimator:hover label.sk-toggleable__label-arrow:before {color: black;}#sk-container-id-7 div.sk-toggleable__content {max-height: 0;max-width: 0;overflow: hidden;text-align: left;background-color: #f0f8ff;}#sk-container-id-7 div.sk-toggleable__content pre {margin: 0.2em;color: black;border-radius: 0.25em;background-color: #f0f8ff;}#sk-container-id-7 input.sk-toggleable__control:checked~div.sk-toggleable__content {max-height: 200px;max-width: 100%;overflow: auto;}#sk-container-id-7 input.sk-toggleable__control:checked~label.sk-toggleable__label-arrow:before {content: \"▾\";}#sk-container-id-7 div.sk-estimator input.sk-toggleable__control:checked~label.sk-toggleable__label {background-color: #d4ebff;}#sk-container-id-7 div.sk-label input.sk-toggleable__control:checked~label.sk-toggleable__label {background-color: #d4ebff;}#sk-container-id-7 input.sk-hidden--visually {border: 0;clip: rect(1px 1px 1px 1px);clip: rect(1px, 1px, 1px, 1px);height: 1px;margin: -1px;overflow: hidden;padding: 0;position: absolute;width: 1px;}#sk-container-id-7 div.sk-estimator {font-family: monospace;background-color: #f0f8ff;border: 1px dotted black;border-radius: 0.25em;box-sizing: border-box;margin-bottom: 0.5em;}#sk-container-id-7 div.sk-estimator:hover {background-color: #d4ebff;}#sk-container-id-7 div.sk-parallel-item::after {content: \"\";width: 100%;border-bottom: 1px solid gray;flex-grow: 1;}#sk-container-id-7 div.sk-label:hover label.sk-toggleable__label {background-color: #d4ebff;}#sk-container-id-7 div.sk-serial::before {content: \"\";position: absolute;border-left: 1px solid gray;box-sizing: border-box;top: 0;bottom: 0;left: 50%;z-index: 0;}#sk-container-id-7 div.sk-serial {display: flex;flex-direction: column;align-items: center;background-color: white;padding-right: 0.2em;padding-left: 0.2em;position: relative;}#sk-container-id-7 div.sk-item {position: relative;z-index: 1;}#sk-container-id-7 div.sk-parallel {display: flex;align-items: stretch;justify-content: center;background-color: white;position: relative;}#sk-container-id-7 div.sk-item::before, #sk-container-id-7 div.sk-parallel-item::before {content: \"\";position: absolute;border-left: 1px solid gray;box-sizing: border-box;top: 0;bottom: 0;left: 50%;z-index: -1;}#sk-container-id-7 div.sk-parallel-item {display: flex;flex-direction: column;z-index: 1;position: relative;background-color: white;}#sk-container-id-7 div.sk-parallel-item:first-child::after {align-self: flex-end;width: 50%;}#sk-container-id-7 div.sk-parallel-item:last-child::after {align-self: flex-start;width: 50%;}#sk-container-id-7 div.sk-parallel-item:only-child::after {width: 0;}#sk-container-id-7 div.sk-dashed-wrapped {border: 1px dashed gray;margin: 0 0.4em 0.5em 0.4em;box-sizing: border-box;padding-bottom: 0.4em;background-color: white;}#sk-container-id-7 div.sk-label label {font-family: monospace;font-weight: bold;display: inline-block;line-height: 1.2em;}#sk-container-id-7 div.sk-label-container {text-align: center;}#sk-container-id-7 div.sk-container {/* jupyter's `normalize.less` sets `[hidden] { display: none; }` but bootstrap.min.css set `[hidden] { display: none !important; }` so we also need the `!important` here to be able to override the default hidden behavior on the sphinx rendered scikit-learn.org. See: https://github.com/scikit-learn/scikit-learn/issues/21755 */display: inline-block !important;position: relative;}#sk-container-id-7 div.sk-text-repr-fallback {display: none;}</style><div id=\"sk-container-id-7\" class=\"sk-top-container\"><div class=\"sk-text-repr-fallback\"><pre>RandomizedSearchCV(cv=5, estimator=HistGradientBoostingClassifier(), n_iter=100,\n",
       "                   n_jobs=-1,\n",
       "                   param_distributions={&#x27;l2_regularization&#x27;: &lt;scipy.stats._distn_infrastructure.rv_continuous_frozen object at 0x1b0eed790&gt;,\n",
       "                                        &#x27;learning_rate&#x27;: &lt;scipy.stats._distn_infrastructure.rv_continuous_frozen object at 0x1b075d650&gt;,\n",
       "                                        &#x27;max_depth&#x27;: &lt;scipy.stats._distn_infrastructure.rv_discrete_frozen object at 0x1b0ebafd0&gt;,\n",
       "                                        &#x27;max_iter&#x27;: &lt;scipy.stats._distn_infrastructure.rv_discrete_frozen object at 0x1b0745250&gt;,\n",
       "                                        &#x27;max_leaf_nodes&#x27;: &lt;scipy.stats._distn_infrastructure.rv_discrete_frozen object at 0x1b0eba510&gt;,\n",
       "                                        &#x27;min_samples_leaf&#x27;: &lt;scipy.stats._distn_infrastructure.rv_discrete_frozen object at 0x1b0ebaa90&gt;},\n",
       "                   random_state=42, scoring=&#x27;accuracy&#x27;)</pre><b>In a Jupyter environment, please rerun this cell to show the HTML representation or trust the notebook. <br />On GitHub, the HTML representation is unable to render, please try loading this page with nbviewer.org.</b></div><div class=\"sk-container\" hidden><div class=\"sk-item sk-dashed-wrapped\"><div class=\"sk-label-container\"><div class=\"sk-label sk-toggleable\"><input class=\"sk-toggleable__control sk-hidden--visually\" id=\"sk-estimator-id-19\" type=\"checkbox\" ><label for=\"sk-estimator-id-19\" class=\"sk-toggleable__label sk-toggleable__label-arrow\">RandomizedSearchCV</label><div class=\"sk-toggleable__content\"><pre>RandomizedSearchCV(cv=5, estimator=HistGradientBoostingClassifier(), n_iter=100,\n",
       "                   n_jobs=-1,\n",
       "                   param_distributions={&#x27;l2_regularization&#x27;: &lt;scipy.stats._distn_infrastructure.rv_continuous_frozen object at 0x1b0eed790&gt;,\n",
       "                                        &#x27;learning_rate&#x27;: &lt;scipy.stats._distn_infrastructure.rv_continuous_frozen object at 0x1b075d650&gt;,\n",
       "                                        &#x27;max_depth&#x27;: &lt;scipy.stats._distn_infrastructure.rv_discrete_frozen object at 0x1b0ebafd0&gt;,\n",
       "                                        &#x27;max_iter&#x27;: &lt;scipy.stats._distn_infrastructure.rv_discrete_frozen object at 0x1b0745250&gt;,\n",
       "                                        &#x27;max_leaf_nodes&#x27;: &lt;scipy.stats._distn_infrastructure.rv_discrete_frozen object at 0x1b0eba510&gt;,\n",
       "                                        &#x27;min_samples_leaf&#x27;: &lt;scipy.stats._distn_infrastructure.rv_discrete_frozen object at 0x1b0ebaa90&gt;},\n",
       "                   random_state=42, scoring=&#x27;accuracy&#x27;)</pre></div></div></div><div class=\"sk-parallel\"><div class=\"sk-parallel-item\"><div class=\"sk-item\"><div class=\"sk-label-container\"><div class=\"sk-label sk-toggleable\"><input class=\"sk-toggleable__control sk-hidden--visually\" id=\"sk-estimator-id-20\" type=\"checkbox\" ><label for=\"sk-estimator-id-20\" class=\"sk-toggleable__label sk-toggleable__label-arrow\">estimator: HistGradientBoostingClassifier</label><div class=\"sk-toggleable__content\"><pre>HistGradientBoostingClassifier()</pre></div></div></div><div class=\"sk-serial\"><div class=\"sk-item\"><div class=\"sk-estimator sk-toggleable\"><input class=\"sk-toggleable__control sk-hidden--visually\" id=\"sk-estimator-id-21\" type=\"checkbox\" ><label for=\"sk-estimator-id-21\" class=\"sk-toggleable__label sk-toggleable__label-arrow\">HistGradientBoostingClassifier</label><div class=\"sk-toggleable__content\"><pre>HistGradientBoostingClassifier()</pre></div></div></div></div></div></div></div></div></div></div>"
      ],
      "text/plain": [
       "RandomizedSearchCV(cv=5, estimator=HistGradientBoostingClassifier(), n_iter=100,\n",
       "                   n_jobs=-1,\n",
       "                   param_distributions={'l2_regularization': <scipy.stats._distn_infrastructure.rv_continuous_frozen object at 0x1b0eed790>,\n",
       "                                        'learning_rate': <scipy.stats._distn_infrastructure.rv_continuous_frozen object at 0x1b075d650>,\n",
       "                                        'max_depth': <scipy.stats._distn_infrastructure.rv_discrete_frozen object at 0x1b0ebafd0>,\n",
       "                                        'max_iter': <scipy.stats._distn_infrastructure.rv_discrete_frozen object at 0x1b0745250>,\n",
       "                                        'max_leaf_nodes': <scipy.stats._distn_infrastructure.rv_discrete_frozen object at 0x1b0eba510>,\n",
       "                                        'min_samples_leaf': <scipy.stats._distn_infrastructure.rv_discrete_frozen object at 0x1b0ebaa90>},\n",
       "                   random_state=42, scoring='accuracy')"
      ]
     },
     "execution_count": 162,
     "metadata": {},
     "output_type": "execute_result"
    }
   ],
   "source": [
    "# Khởi tạo mô hình Histogram Gradient Boosting\n",
    "model = HistGradientBoostingClassifier()\n",
    "\n",
    "# Định nghĩa các tham số để tìm kiếm\n",
    "param_distributions = {\n",
    "    'max_iter': randint(50, 200),             # Số lượng cây\n",
    "    'max_leaf_nodes': randint(10, 50),        # Số lượng lá tối đa\n",
    "    'min_samples_leaf': randint(1, 20),       # Số mẫu tối thiểu trong một lá\n",
    "    'max_depth': randint(3, 10),              # Độ sâu tối đa của cây\n",
    "    'learning_rate': uniform(0.01, 0.3),      # Tốc độ học\n",
    "    'l2_regularization': uniform(0.0, 10.0)    # Hệ số điều chỉnh L2\n",
    "}\n",
    "\n",
    "# Khởi tạo RandomizedSearchCV\n",
    "random_search = RandomizedSearchCV(\n",
    "    model,\n",
    "    param_distributions,\n",
    "    n_iter=100,               # Số lần thử nghiệm\n",
    "    cv=5,                     # Số lần k-fold cross-validation\n",
    "    scoring='accuracy',       # Đánh giá dựa trên độ chính xác\n",
    "    random_state=42,\n",
    "    n_jobs=-1                 # Sử dụng tất cả các CPU có sẵn\n",
    ")\n",
    "\n",
    "# Huấn luyện với RandomizedSearchCV\n",
    "random_search.fit(X_train, y_train)"
   ]
  },
  {
   "cell_type": "code",
   "execution_count": 163,
   "id": "cb739deb-af9b-4dc5-a911-c50d433b9d4d",
   "metadata": {},
   "outputs": [
    {
     "name": "stdout",
     "output_type": "stream",
     "text": [
      "Điểm số tốt nhất: 0.935\n",
      "Các tham số tốt nhất:\n"
     ]
    },
    {
     "data": {
      "text/html": [
       "<div>\n",
       "<style scoped>\n",
       "    .dataframe tbody tr th:only-of-type {\n",
       "        vertical-align: middle;\n",
       "    }\n",
       "\n",
       "    .dataframe tbody tr th {\n",
       "        vertical-align: top;\n",
       "    }\n",
       "\n",
       "    .dataframe thead th {\n",
       "        text-align: right;\n",
       "    }\n",
       "</style>\n",
       "<table border=\"1\" class=\"dataframe\">\n",
       "  <thead>\n",
       "    <tr style=\"text-align: right;\">\n",
       "      <th></th>\n",
       "      <th>Value</th>\n",
       "    </tr>\n",
       "  </thead>\n",
       "  <tbody>\n",
       "    <tr>\n",
       "      <th>l2_regularization</th>\n",
       "      <td>6.117207</td>\n",
       "    </tr>\n",
       "    <tr>\n",
       "      <th>learning_rate</th>\n",
       "      <td>0.135880</td>\n",
       "    </tr>\n",
       "    <tr>\n",
       "      <th>max_depth</th>\n",
       "      <td>6.000000</td>\n",
       "    </tr>\n",
       "    <tr>\n",
       "      <th>max_iter</th>\n",
       "      <td>193.000000</td>\n",
       "    </tr>\n",
       "    <tr>\n",
       "      <th>max_leaf_nodes</th>\n",
       "      <td>46.000000</td>\n",
       "    </tr>\n",
       "    <tr>\n",
       "      <th>min_samples_leaf</th>\n",
       "      <td>14.000000</td>\n",
       "    </tr>\n",
       "  </tbody>\n",
       "</table>\n",
       "</div>"
      ],
      "text/plain": [
       "                        Value\n",
       "l2_regularization    6.117207\n",
       "learning_rate        0.135880\n",
       "max_depth            6.000000\n",
       "max_iter           193.000000\n",
       "max_leaf_nodes      46.000000\n",
       "min_samples_leaf    14.000000"
      ]
     },
     "execution_count": 163,
     "metadata": {},
     "output_type": "execute_result"
    }
   ],
   "source": [
    "# In điểm số tốt nhất và các tham số tốt nhất\n",
    "# khi Random Search với các tham số trên\n",
    "print(f'Điểm số tốt nhất: {random_search.best_score_:.3f}')\n",
    "\n",
    "# Tạo DataFrame từ các tham số tốt nhất\n",
    "best_params_df = pd.DataFrame([random_search.best_params_]).transpose()\n",
    "\n",
    "# Đặt tên cột cho DataFrame\n",
    "best_params_df.columns = ['Value']\n",
    "\n",
    "# In ra DataFrame với tên tham số ở các dòng\n",
    "print('Các tham số tốt nhất:')\n",
    "best_params_df"
   ]
  },
  {
   "cell_type": "markdown",
   "id": "a43c2499-aa92-4c6c-9bd3-778f05430397",
   "metadata": {},
   "source": [
    "## 6. Đánh giá mô hình với tham số tốt nhất"
   ]
  },
  {
   "cell_type": "markdown",
   "id": "0e847a1d-07cf-472c-b792-f11ae89ad518",
   "metadata": {},
   "source": [
    "### 6.1 Train - Test Split"
   ]
  },
  {
   "cell_type": "code",
   "execution_count": 164,
   "id": "a9a4f75c-e629-47b9-b749-1cfd05b5356f",
   "metadata": {},
   "outputs": [
    {
     "name": "stdout",
     "output_type": "stream",
     "text": [
      "Accuracy: (0.9372217958557175,)\n",
      "Precision: (0.9754485363550519,)\n",
      "Recall: (0.7295197740112994,)\n",
      "F1: 0.8347474747474747\n"
     ]
    }
   ],
   "source": [
    "# Lấy tham số tốt nhất\n",
    "best_params = random_search.best_params_\n",
    "\n",
    "# Tạo một HistGradientBoostingClassifier với các tham số tốt nhất\n",
    "best_model = HistGradientBoostingClassifier(**best_params, random_state=42)\n",
    "\n",
    "# Huấn luyện lại mô hình với các tham số tốt nhất\n",
    "best_model.fit(X_train, y_train)\n",
    "\n",
    "# In các độ đo đánh giá mô hình\n",
    "accuracy = accuracy_score(y_test, y_pred),\n",
    "precision = precision_score(y_test, y_pred),\n",
    "recall = recall_score(y_test, y_pred),\n",
    "f1 = f1_score(y_test, y_pred)\n",
    "\n",
    "print(f\"Accuracy: {accuracy}\")\n",
    "print(f\"Precision: {precision}\")\n",
    "print(f\"Recall: {recall}\")\n",
    "print(f\"F1: {f1}\")"
   ]
  },
  {
   "cell_type": "markdown",
   "id": "f7b6f3fb-b098-4ec5-b15f-1dbb3f2339d0",
   "metadata": {},
   "source": [
    "### 6.2 Cross Validation(K-Fold)"
   ]
  },
  {
   "cell_type": "code",
   "execution_count": 165,
   "id": "36accc11-00cb-4c5b-87f4-94751d1e1863",
   "metadata": {},
   "outputs": [
    {
     "name": "stdout",
     "output_type": "stream",
     "text": [
      "Fold 1:\n",
      "Accuracy: 0.938142747505756\n",
      "Precision: 0.9668202764976959\n",
      "Recall: 0.740819209039548\n",
      "F1: 0.8388644542183127\n",
      "\n",
      "Fold 2:\n",
      "Accuracy: 0.938296239447429\n",
      "Precision: 0.9630655586334257\n",
      "Recall: 0.7423487544483985\n",
      "F1: 0.8384244372990354\n",
      "\n",
      "Fold 3:\n",
      "Accuracy: 0.930775134305449\n",
      "Precision: 0.9716713881019831\n",
      "Recall: 0.7096551724137931\n",
      "F1: 0.8202471104025508\n",
      "\n",
      "Fold 4:\n",
      "Accuracy: 0.9330775134305449\n",
      "Precision: 0.9660056657223796\n",
      "Recall: 0.71890372452565\n",
      "F1: 0.8243352135374696\n",
      "\n",
      "Fold 5:\n",
      "Accuracy: 0.9365980964077372\n",
      "Precision: 0.9734848484848485\n",
      "Recall: 0.7275300778485492\n",
      "F1: 0.8327257999189955\n",
      "\n",
      "Mean Accuracy: 0.9353779462193831\n",
      "Mean Precision: 0.9682095474880665\n",
      "Mean Recall: 0.7278513876551878\n",
      "Mean F1 Score: 0.8309194030752728\n"
     ]
    }
   ],
   "source": [
    "# Thiết lập K-Fold Cross-Validation\n",
    "kf = KFold(n_splits=5, shuffle=True, random_state=42)\n",
    "\n",
    "# Danh sách để lưu các giá trị accuracy, precisious, recall và f1 cho từng fold\n",
    "fold_accuracies = []\n",
    "fold_precisions = []\n",
    "fold_recalls = []\n",
    "fold_f1s = []\n",
    "\n",
    "# Vòng lặp qua các fold\n",
    "for i, (train_index, test_index) in enumerate(kf.split(X)):\n",
    "    print(f'Fold {i + 1}:')  # Đánh số fold từ 1 để hiển thị\n",
    "    \n",
    "    X_train_fold, X_test_fold = X[train_index], X[test_index]\n",
    "    y_train_fold, y_test_fold = y[train_index], y[test_index]\n",
    "\n",
    "    # Huấn luyện mô hình trên tập huấn luyện của fold hiện tại\n",
    "    best_model.fit(X_train_fold, y_train_fold)\n",
    "    \n",
    "    # Dự đoán trên tập kiểm tra của fold hiện tại\n",
    "    y_pred_fold = best_model.predict(X_test_fold)\n",
    "\n",
    "    # Tính toán các độ đo\n",
    "    accuracy = accuracy_score(y_test_fold, y_pred_fold)\n",
    "    precision = precision_score(y_test_fold, y_pred_fold)\n",
    "    recall = recall_score(y_test_fold, y_pred_fold)\n",
    "    f1 = f1_score(y_test_fold, y_pred_fold)\n",
    "\n",
    "    # In các độ đo cho fold hiện tại\n",
    "    print(f\"Accuracy: {accuracy}\")\n",
    "    print(f\"Precision: {precision}\")\n",
    "    print(f\"Recall: {recall}\")\n",
    "    print(f\"F1: {f1}\\n\")\n",
    "\n",
    "    # Lưu các độ đo vào danh sách\n",
    "    fold_accuracies.append(accuracy)\n",
    "    fold_precisions.append(precision)\n",
    "    fold_recalls.append(recall)\n",
    "    fold_f1s.append(f1)\n",
    "\n",
    "# Tính và in trung bình các chỉ số\n",
    "print(\"Mean Accuracy:\", np.mean(fold_accuracies))\n",
    "print(\"Mean Precision:\", np.mean(fold_precisions))\n",
    "print(\"Mean Recall:\", np.mean(fold_recalls))\n",
    "print(\"Mean F1 Score:\", np.mean(fold_f1s))"
   ]
  },
  {
   "cell_type": "markdown",
   "id": "2b1403b2-892b-4920-8daa-8540bcd9d8ac",
   "metadata": {},
   "source": [
    "### 6.3 Visualization"
   ]
  },
  {
   "cell_type": "code",
   "execution_count": 166,
   "id": "958d4b52-f5f0-4797-b378-192b4a882532",
   "metadata": {},
   "outputs": [],
   "source": [
    "def plot_metric_scores(metric_values, metric_name):\n",
    "    \"\"\"\n",
    "    Vẽ biểu đồ cột cho các giá trị của một độ đo cụ thể.\n",
    "\n",
    "    Parameters:\n",
    "    - metric_values: Danh sách chứa giá trị của độ đo cho từng fold.\n",
    "    - metric_name: Tên của độ đo (vd: 'Accuracy', 'Precision', 'Recall', 'F1').\n",
    "\n",
    "    Returns:\n",
    "    None.\n",
    "    \"\"\"\n",
    "    \n",
    "    # Tạo biểu đồ cột với metric_values\n",
    "    plt.figure(figsize=(8, 4))\n",
    "    plt.bar(range(1, len(metric_values) + 1), metric_values, color='skyblue')\n",
    "    \n",
    "    # Đặt nhãn cho trục x và y\n",
    "    plt.xlabel('Fold')\n",
    "    plt.ylabel(f'Điểm {metric_name}')\n",
    "    \n",
    "    # Đặt tiêu đề cho biểu đồ\n",
    "    plt.title(f'Điểm {metric_name} cho từng Fold')\n",
    "    \n",
    "    # Đặt các nhãn trục x là số fold\n",
    "    plt.xticks(range(1, len(metric_values) + 1))\n",
    "\n",
    "    # Thiết lập giới hạn cho trục y từ 0 đến 1 với bước là 0.1\n",
    "    plt.ylim(0, 1)\n",
    "    plt.yticks(np.arange(0, 1.1, 0.1))  # Đặt các nhãn y từ 0 đến 1 với bước 0.1\n",
    "\n",
    "    # Thêm lưới theo chiều ngang\n",
    "    plt.grid(axis='y', linestyle='--', alpha=0.7)\n",
    "    \n",
    "    # Hiển thị biểu đồ\n",
    "    plt.show()"
   ]
  },
  {
   "cell_type": "code",
   "execution_count": 167,
   "id": "58762bfc-c1a9-4765-b517-5fba89d06d6c",
   "metadata": {},
   "outputs": [
    {
     "data": {
      "image/png": "[encoded data removed]",
      "text/plain": [
       "<Figure size 800x400 with 1 Axes>"
      ]
     },
     "metadata": {},
     "output_type": "display_data"
    }
   ],
   "source": [
    "# Vẽ biểu đồ cho các giá trị Accuracy\n",
    "plot_metric_scores(fold_accuracies, \"Accuracy\")"
   ]
  },
  {
   "cell_type": "code",
   "execution_count": 168,
   "id": "9db2e8fe-d1cf-41f7-b234-afbfb69509ae",
   "metadata": {},
   "outputs": [
    {
     "data": {
      "image/png": "[encoded data removed]",
      "text/plain": [
       "<Figure size 800x400 with 1 Axes>"
      ]
     },
     "metadata": {},
     "output_type": "display_data"
    }
   ],
   "source": [
    "# Vẽ biểu đồ cho các giá trị Precision\n",
    "plot_metric_scores(fold_precisions, \"Precision\")"
   ]
  },
  {
   "cell_type": "code",
   "execution_count": 169,
   "id": "82abe0d5-86a3-457f-8f92-f36987f78469",
   "metadata": {},
   "outputs": [
    {
     "data": {
      "image/png": "[encoded data removed]",
      "text/plain": [
       "<Figure size 800x400 with 1 Axes>"
      ]
     },
     "metadata": {},
     "output_type": "display_data"
    }
   ],
   "source": [
    "# Vẽ biểu đồ cho các giá trị Recall\n",
    "plot_metric_scores(fold_recalls, \"Recall\")"
   ]
  },
  {
   "cell_type": "code",
   "execution_count": 170,
   "id": "8f882ab0-e313-4010-bd3d-c0884576c9f4",
   "metadata": {},
   "outputs": [
    {
     "data": {
      "image/png": "[encoded data removed]",
      "text/plain": [
       "<Figure size 800x400 with 1 Axes>"
      ]
     },
     "metadata": {},
     "output_type": "display_data"
    }
   ],
   "source": [
    "# Vẽ biểu đồ cho các giá trị F1\n",
    "plot_metric_scores(fold_f1s, \"F1\")"
   ]
  },
  {
   "cell_type": "code",
   "execution_count": 175,
   "id": "36ccab77-c4a8-4e82-aef1-3ae8f466370b",
   "metadata": {},
   "outputs": [
    {
     "data": {
      "image/png": "[encoded data removed]",
      "text/plain": [
       "<Figure size 2000x500 with 4 Axes>"
      ]
     },
     "metadata": {},
     "output_type": "display_data"
    }
   ],
   "source": [
    "# Tạo figure và axes\n",
    "fig, axes = plt.subplots(nrows=1, ncols=4, figsize=(20, 5))\n",
    "\n",
    "# Biểu đồ cho Accuracy\n",
    "axes[0].bar(range(1, len(fold_accuracies) + 1), fold_accuracies, color='skyblue')\n",
    "axes[0].set_title('Accuracy')\n",
    "axes[0].set_ylim(0, 1)  # Giới hạn trục y từ 0 đến 1\n",
    "axes[0].set_xticks(range(1, len(fold_accuracies) + 1))\n",
    "\n",
    "# Biểu đồ cho Precision\n",
    "axes[1].bar(range(1, len(fold_precisions) + 1), fold_precisions, color='lightpink')\n",
    "axes[1].set_title('Precision')\n",
    "axes[1].set_ylim(0, 1)  # Giới hạn trục y từ 0 đến 1\n",
    "axes[1].set_xticks(range(1, len(fold_precisions) + 1))\n",
    "\n",
    "# Biểu đồ cho Recall\n",
    "axes[2].bar(range(1, len(fold_recalls) + 1), fold_recalls, color='lightgreen')\n",
    "axes[2].set_title('Recall')\n",
    "axes[2].set_ylim(0, 1)  # Giới hạn trục y từ 0 đến 1\n",
    "axes[2].set_xticks(range(1, len(fold_recalls) + 1))\n",
    "\n",
    "# Biểu đồ cho F1 Score\n",
    "axes[3].bar(range(1, len(fold_f1s) + 1), fold_f1s, color='lightcoral')\n",
    "axes[3].set_title('F1 Score')\n",
    "axes[3].set_ylim(0, 1)  # Giới hạn trục y từ 0 đến 1\n",
    "axes[3].set_xticks(range(1, len(fold_f1s) + 1))\n",
    "\n",
    "# Tiêu đề chung cho cả 4 biểu đồ\n",
    "fig.suptitle(\"Giá trị của các độ đo đánh giá trên từng Fold\", fontsize=18)\n",
    "\n",
    "# Hiển thị 4 biểu đồ cột trên cùng một hàng\n",
    "plt.tight_layout()\n",
    "plt.show()"
   ]
  },
  {
   "cell_type": "markdown",
   "id": "6dee5a30-753f-4905-8fe4-28f2481f0398",
   "metadata": {},
   "source": [
    "Các biểu đồ này cho thấy rằng mô hình hoạt động tốt và ổn định qua các fold, với các chỉ số đánh giá đều ở mức cao. "
   ]
  }
 ],
 "metadata": {
  "kernelspec": {
   "display_name": "Python 3 (ipykernel)",
   "language": "python",
   "name": "python3"
  },
  "language_info": {
   "codemirror_mode": {
    "name": "ipython",
    "version": 3
   },
   "file_extension": ".py",
   "mimetype": "text/x-python",
   "name": "python",
   "nbconvert_exporter": "python",
   "pygments_lexer": "ipython3",
   "version": "3.11.7"
  }
 },
 "nbformat": 4,
 "nbformat_minor": 5
}
